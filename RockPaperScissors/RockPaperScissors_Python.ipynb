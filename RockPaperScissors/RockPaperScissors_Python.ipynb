{
 "cells": [
  {
   "cell_type": "code",
   "execution_count": 3,
   "id": "1692866b-b248-40db-bac7-5aecc18c7af4",
   "metadata": {},
   "outputs": [
    {
     "name": "stdin",
     "output_type": "stream",
     "text": [
      "Choose from Rock, Paper or Scissors:  rock\n"
     ]
    },
    {
     "name": "stdout",
     "output_type": "stream",
     "text": [
      "You chose Rock\n",
      "Computer chose Scissors\n",
      "You win! 🤩\n"
     ]
    }
   ],
   "source": [
    "import random\n",
    "values = (\"Rock\", \"Paper\", \"Scissors\")\n",
    "computer = random.choice(values)\n",
    "user = input(\"Choose from Rock, Paper or Scissors: \").strip().title()\n",
    "\n",
    "winning_pairs = {(\"Rock\", \"Scissors\"), (\"Paper\", \"Rock\"), (\"Scissors\", \"Paper\")}\n",
    "\n",
    "if user not in values:\n",
    "    print(\"This isn't a valid choice, please restar the game\")\n",
    "    quit()\n",
    "\n",
    "print(f\"You chose {user}\")\n",
    "print(f\"Computer chose {computer}\")\n",
    "\n",
    "if user == computer:\n",
    "    print(\"It's a tie 😅\")\n",
    "elif (user, computer) in (winning_pairs):\n",
    "    print(\"You win! 🤩\")\n",
    "else:\n",
    "    print (\"You lose! 😬\")"
   ]
  },
  {
   "cell_type": "code",
   "execution_count": null,
   "id": "9df6a861-9055-4ba4-8667-de09072222b2",
   "metadata": {},
   "outputs": [],
   "source": []
  },
  {
   "cell_type": "code",
   "execution_count": null,
   "id": "bcc8cd3c-b628-4dfb-b50d-dae45a243c73",
   "metadata": {},
   "outputs": [],
   "source": []
  },
  {
   "cell_type": "code",
   "execution_count": null,
   "id": "7bb5facf-a6b8-497a-869d-85b1bfc64e18",
   "metadata": {},
   "outputs": [],
   "source": []
  }
 ],
 "metadata": {
  "kernelspec": {
   "display_name": "Python 3 (ipykernel)",
   "language": "python",
   "name": "python3"
  },
  "language_info": {
   "codemirror_mode": {
    "name": "ipython",
    "version": 3
   },
   "file_extension": ".py",
   "mimetype": "text/x-python",
   "name": "python",
   "nbconvert_exporter": "python",
   "pygments_lexer": "ipython3",
   "version": "3.12.7"
  }
 },
 "nbformat": 4,
 "nbformat_minor": 5
}
